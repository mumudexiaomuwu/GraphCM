{
 "cells": [
  {
   "cell_type": "markdown",
   "metadata": {},
   "source": [
    "# Import packages"
   ]
  },
  {
   "cell_type": "code",
   "execution_count": 2,
   "metadata": {},
   "outputs": [],
   "source": [
    "import networkx as nx\n",
    "import cobra \n",
    "import os\n",
    "import pandas as pd\n",
    "import sys\n",
    "sys.path.append('../code/')\n",
    "from graph_currency_metabolites_function import *"
   ]
  },
  {
   "cell_type": "markdown",
   "metadata": {},
   "source": [
    "# Input and output files"
   ]
  },
  {
   "cell_type": "code",
   "execution_count": 3,
   "metadata": {},
   "outputs": [],
   "source": [
    "pairs_of_currency_metabolites_file = \"../data/external/pairs_of_currency_metabolites.csv\" #the file stores the currency metabolite pairs\n",
    "special_currency_metabolites_file = \"../data/external/special_currency_metabolites.csv\" #the file stores the special currency metabolites\n",
    "use_model_file=\"../data/external/iML1515.xml\" #the models\n",
    "result_save_path = '../data/result/' # result folders"
   ]
  },
  {
   "cell_type": "markdown",
   "metadata": {},
   "source": [
    "# Get currency metabolite from csv file"
   ]
  },
  {
   "cell_type": "code",
   "execution_count": 4,
   "metadata": {},
   "outputs": [],
   "source": [
    "pairs_of_currency_metabolites = pd.read_csv(pairs_of_currency_metabolites_file)\n",
    "special_currency_metabolites = pd.read_csv(special_currency_metabolites_file)\n",
    "\n",
    "pi_pairs1 = [tuple(x.split(\",\")) for x in pairs_of_currency_metabolites['pi_pairs1'] if str(x) != 'nan']\n",
    "pi_pairs2 = [tuple(x.split(\",\")) for x in pairs_of_currency_metabolites['pi_pairs2'] if str(x) != 'nan']\n",
    "h_pairs1 = [tuple(x.split(\",\")) for x in pairs_of_currency_metabolites['h_pairs1'] if str(x) != 'nan']\n",
    "h_pairs2 = [tuple(x.split(\",\")) for x in pairs_of_currency_metabolites['h_pairs2'] if str(x) != 'nan']\n",
    "nh4_pairs = [tuple(x.split(\",\")) for x in pairs_of_currency_metabolites['nh4_pairs'] if str(x) != 'nan']\n",
    "other_pairs = [tuple(x.split(\",\")) for x in pairs_of_currency_metabolites['other_pairs'] if str(x) != 'nan']\n",
    "\n",
    "excluded = [x for x in special_currency_metabolites['excluded'] if str(x) != 'nan']\n",
    "nocarbon = [x for x in special_currency_metabolites['no carbon metabolites'] if str(x) != 'nan']\n",
    "ions = [x for x in special_currency_metabolites['ions'] if str(x) != 'nan']\n",
    "currency_mets = excluded+ nocarbon+ ions"
   ]
  },
  {
   "cell_type": "markdown",
   "metadata": {},
   "source": [
    "# Get graph theory model "
   ]
  },
  {
   "cell_type": "code",
   "execution_count": 5,
   "metadata": {},
   "outputs": [
    {
     "name": "stdout",
     "output_type": "stream",
     "text": [
      "iML1515\n",
      "finish\n"
     ]
    }
   ],
   "source": [
    "model_name = use_model_file.split('/')[-1].split('.')[0]\n",
    "print(model_name)\n",
    "resultfile=result_save_path+ model_name+'_metabolite_links.txt'\n",
    "model = cobra.io.read_sbml_model(use_model_file)\n",
    "\n",
    "metall=[]\n",
    "for met in model.metabolites:\n",
    "    me = met.elements\n",
    "    metid = met.id\n",
    "    if 'C' in me and metid[:-2] != \"co2\" and metid[:-2] != \"hco3\" and metid[:-2] != \"ACP\":\n",
    "        # print(metid)\n",
    "        metall.append(metid)\n",
    "\n",
    "G=nx.MultiDiGraph()\n",
    "for rea in model.reactions:\n",
    "    if not rea.boundary and 'BIOMASS' not in rea.id: \n",
    "        sub_pro = get_metpair(rea,pi_pairs1,h_pairs1,pi_pairs2,h_pairs2,nh4_pairs,other_pairs,currency_mets) \n",
    "        for sp in sub_pro:\n",
    "            G.add_edge(sp[0], sp[1], label=rea.id)\n",
    "            if rea.reversibility:\n",
    "                G.add_edge(sp[1], sp[0], label=rea.id)\n",
    "\n",
    "nx.write_edgelist(G, resultfile)\n",
    "print('finish')"
   ]
  },
  {
   "cell_type": "code",
   "execution_count": null,
   "metadata": {},
   "outputs": [],
   "source": []
  }
 ],
 "metadata": {
  "kernelspec": {
   "display_name": "Python [conda env:enzyme_python]",
   "language": "python",
   "name": "conda-env-enzyme_python-py"
  },
  "language_info": {
   "codemirror_mode": {
    "name": "ipython",
    "version": 3
   },
   "file_extension": ".py",
   "mimetype": "text/x-python",
   "name": "python",
   "nbconvert_exporter": "python",
   "pygments_lexer": "ipython3",
   "version": "3.6.7"
  }
 },
 "nbformat": 4,
 "nbformat_minor": 2
}
