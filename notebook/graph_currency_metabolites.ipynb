{
 "cells": [
  {
   "cell_type": "markdown",
   "metadata": {},
   "source": [
    "# Import packages"
   ]
  },
  {
   "cell_type": "code",
   "execution_count": 1,
   "metadata": {},
   "outputs": [],
   "source": [
    "import networkx as nx\r\n",
    "import cobra \r\n",
    "import pandas as pd\r\n",
    "import time\r\n",
    "import sys\r\n",
    "sys.path.append('../code/')\r\n",
    "from graph_currency_metabolites_function import *"
   ]
  },
  {
   "cell_type": "markdown",
   "metadata": {},
   "source": [
    "# Input and output files"
   ]
  },
  {
   "cell_type": "code",
   "execution_count": 2,
   "metadata": {},
   "outputs": [],
   "source": [
    "pairs_of_currency_metabolites_file = \"../data/external/pairs_of_currency_metabolites.csv\" #the file stores the currency metabolite pairs\n",
    "special_currency_metabolites_file = \"../data/external/special_currency_metabolites.csv\" #the file stores the special currency metabolites\n",
    "use_model_file=\"../data/external/iML1515.xml\" #the models\n",
    "result_save_path = '../data/result/' # result folders"
   ]
  },
  {
   "cell_type": "markdown",
   "metadata": {},
   "source": [
    "# Get currency metabolite from csv file"
   ]
  },
  {
   "cell_type": "code",
   "execution_count": 3,
   "metadata": {},
   "outputs": [],
   "source": [
    "pairs_of_currency_metabolites = pd.read_csv(pairs_of_currency_metabolites_file)\n",
    "special_currency_metabolites = pd.read_csv(special_currency_metabolites_file)\n",
    "\n",
    "pi_pairs1 = [tuple(x.split(\",\")) for x in pairs_of_currency_metabolites['pi_pairs1'] if str(x) != 'nan']\n",
    "pi_pairs2 = [tuple(x.split(\",\")) for x in pairs_of_currency_metabolites['pi_pairs2'] if str(x) != 'nan']\n",
    "h_pairs1 = [tuple(x.split(\",\")) for x in pairs_of_currency_metabolites['h_pairs1'] if str(x) != 'nan']\n",
    "h_pairs2 = [tuple(x.split(\",\")) for x in pairs_of_currency_metabolites['h_pairs2'] if str(x) != 'nan']\n",
    "nh4_pairs = [tuple(x.split(\",\")) for x in pairs_of_currency_metabolites['nh4_pairs'] if str(x) != 'nan']\n",
    "other_pairs = [tuple(x.split(\",\")) for x in pairs_of_currency_metabolites['other_pairs'] if str(x) != 'nan']\n",
    "\n",
    "excluded = [x for x in special_currency_metabolites['excluded'] if str(x) != 'nan']\n",
    "nocarbon = [x for x in special_currency_metabolites['no carbon metabolites'] if str(x) != 'nan']\n",
    "ions = [x for x in special_currency_metabolites['ions'] if str(x) != 'nan']\n",
    "currency_mets = excluded+ nocarbon+ ions"
   ]
  },
  {
   "cell_type": "markdown",
   "metadata": {},
   "source": [
    "# Get graph theory model "
   ]
  },
  {
   "cell_type": "code",
   "execution_count": 4,
   "metadata": {},
   "outputs": [
    {
     "name": "stdout",
     "output_type": "stream",
     "text": [
      "iML1515\n",
      "finished!\n"
     ]
    }
   ],
   "source": [
    "model_name = use_model_file.split('/')[-1].split('.')[0]\r\n",
    "print(model_name)\r\n",
    "resultfile=result_save_path+ model_name+'_metabolite_links.txt'\r\n",
    "model = cobra.io.read_sbml_model(use_model_file)\r\n",
    "\r\n",
    "metall=[]\r\n",
    "for met in model.metabolites:\r\n",
    "    me = met.elements\r\n",
    "    metid = met.id\r\n",
    "    if 'C' in me and metid[:-2] != \"co2\" and metid[:-2] != \"hco3\" and metid[:-2] != \"ACP\":\r\n",
    "        # print(metid)\r\n",
    "        metall.append(metid)\r\n",
    "\r\n",
    "G=nx.MultiDiGraph()\r\n",
    "for rea in model.reactions:\r\n",
    "    if not rea.boundary and 'BIOMASS' not in rea.id: \r\n",
    "        sub_pro = get_metpair(rea,pi_pairs1,h_pairs1,pi_pairs2,h_pairs2,nh4_pairs,other_pairs,currency_mets) \r\n",
    "        for sp in sub_pro:\r\n",
    "            G.add_edge(sp[0], sp[1], label=rea.id)\r\n",
    "            if rea.reversibility:\r\n",
    "                G.add_edge(sp[1], sp[0], label=rea.id)\r\n",
    "\r\n",
    "nx.write_edgelist(G, resultfile)\r\n",
    "print('finished!')"
   ]
  },
  {
   "cell_type": "markdown",
   "metadata": {},
   "source": [
    "# Calculate path"
   ]
  },
  {
   "cell_type": "code",
   "execution_count": 5,
   "metadata": {},
   "outputs": [
    {
     "name": "stdout",
     "output_type": "stream",
     "text": [
      "finished!\n",
      "[['pyr_c', 'pep_c', 'oaa_c', 'asp__L_c']]\n",
      "Running time: 0.004996776580810547 Seconds\n"
     ]
    }
   ],
   "source": [
    "start=time.time()\r\n",
    "allrecID=search_path(G, result_save_path, 'pyr_c', 'asp__L_c',3)\r\n",
    "end=time.time()\r\n",
    "print(allrecID)\r\n",
    "print('Running time: %s Seconds'%(end-start))"
   ]
  }
 ],
 "metadata": {
  "interpreter": {
   "hash": "5078e26e7e96500b7c58faad7734bccb75e6f0447f50705d69b3578b82166f0f"
  },
  "kernelspec": {
   "display_name": "Python 3.8.10 64-bit ('graph_CM': conda)",
   "name": "python3"
  },
  "language_info": {
   "name": "python",
   "version": ""
  }
 },
 "nbformat": 4,
 "nbformat_minor": 2
}